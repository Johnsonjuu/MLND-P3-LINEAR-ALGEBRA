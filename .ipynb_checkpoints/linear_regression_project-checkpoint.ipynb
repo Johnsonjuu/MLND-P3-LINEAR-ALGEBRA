{
 "cells": [
  {
   "cell_type": "code",
   "execution_count": 199,
   "metadata": {
    "collapsed": true
   },
   "outputs": [],
   "source": [
    "# 任意选一个你喜欢的整数，这能帮你得到稳定的结果\n",
    "seed = 888"
   ]
  },
  {
   "cell_type": "markdown",
   "metadata": {},
   "source": [
    "# 欢迎来到线性回归项目\n",
    "\n",
    "若项目中的题目有困难没完成也没关系，我们鼓励你带着问题提交项目，评审人会给予你诸多帮助。\n",
    "\n",
    "所有选做题都可以不做，不影响项目通过。如果你做了，那么项目评审会帮你批改，也会因为选做部分做错而判定为不通过。\n",
    "\n",
    "其中非代码题可以提交手写后扫描的 pdf 文件，或使用 Latex 在文档中直接回答。"
   ]
  },
  {
   "cell_type": "markdown",
   "metadata": {},
   "source": [
    "# 1 矩阵运算\n",
    "\n",
    "## 1.1 创建一个 4*4 的单位矩阵"
   ]
  },
  {
   "cell_type": "code",
   "execution_count": 200,
   "metadata": {
    "collapsed": true
   },
   "outputs": [],
   "source": [
    "# 这个项目设计来帮你熟悉 python list 和线性代数\n",
    "# 你不能调用任何NumPy以及相关的科学计算库来完成作业\n",
    "\n",
    "\n",
    "# 本项目要求矩阵统一使用二维列表表示，如下：\n",
    "A = [[1,2,3], \n",
    "     [2,3,3], \n",
    "     [1,2,5]]\n",
    "\n",
    "B = [[1,2,3,5], \n",
    "     [2,3,3,5], \n",
    "     [1,2,5,1]]\n",
    "\n",
    "# 向量也用二维列表表示\n",
    "C = [[1],\n",
    "     [2],\n",
    "     [3]]\n",
    "\n",
    "#TODO 创建一个 4*4 单位矩阵\n",
    "I = [[1,0,0,0],\n",
    "     [0,1,0,0],\n",
    "     [0,0,1,0],\n",
    "     [0,0,0,1]]"
   ]
  },
  {
   "cell_type": "markdown",
   "metadata": {},
   "source": [
    "## 1.2 返回矩阵的行数和列数"
   ]
  },
  {
   "cell_type": "code",
   "execution_count": 201,
   "metadata": {
    "collapsed": true
   },
   "outputs": [],
   "source": [
    "# TODO 返回矩阵的行数和列数\n",
    "def shape(M):\n",
    "    return (len(M), len(M[0]))"
   ]
  },
  {
   "cell_type": "code",
   "execution_count": 202,
   "metadata": {
    "scrolled": true
   },
   "outputs": [
    {
     "name": "stderr",
     "output_type": "stream",
     "text": [
      ".\n",
      "----------------------------------------------------------------------\n",
      "Ran 1 test in 0.005s\n",
      "\n",
      "OK\n"
     ]
    }
   ],
   "source": [
    "# 运行以下代码测试你的 shape 函数\n",
    "%run -i -e test.py LinearRegressionTestCase.test_shape"
   ]
  },
  {
   "cell_type": "markdown",
   "metadata": {},
   "source": [
    "## 1.3 每个元素四舍五入到特定小数数位"
   ]
  },
  {
   "cell_type": "code",
   "execution_count": 203,
   "metadata": {
    "collapsed": true
   },
   "outputs": [],
   "source": [
    "# TODO 每个元素四舍五入到特定小数数位\n",
    "# 直接修改参数矩阵，无返回值\n",
    "def matxRound(M, decPts=4):\n",
    "    # 使用shape函数，取出行列数量\n",
    "    row_count, col_count = shape(M)\n",
    "    # 遍历每一行\n",
    "    for row in range(row_count):\n",
    "        # 遍历每一列\n",
    "        for col in range(col_count):\n",
    "            # 使用round函数计算后再重新赋值\n",
    "            M[row][col] = round(M[row][col], decPts)\n",
    "    pass"
   ]
  },
  {
   "cell_type": "code",
   "execution_count": 204,
   "metadata": {
    "scrolled": false
   },
   "outputs": [
    {
     "name": "stderr",
     "output_type": "stream",
     "text": [
      ".\n",
      "----------------------------------------------------------------------\n",
      "Ran 1 test in 0.009s\n",
      "\n",
      "OK\n"
     ]
    }
   ],
   "source": [
    "# 运行以下代码测试你的 matxRound 函数\n",
    "%run -i -e test.py LinearRegressionTestCase.test_matxRound"
   ]
  },
  {
   "cell_type": "markdown",
   "metadata": {},
   "source": [
    "## 1.4 计算矩阵的转置"
   ]
  },
  {
   "cell_type": "code",
   "execution_count": 205,
   "metadata": {
    "collapsed": true
   },
   "outputs": [],
   "source": [
    "# TODO 计算矩阵的转置\n",
    "def transpose(M):\n",
    "    # 利用 * 号操作符，可以将元组解压为列表\n",
    "    # zip() 函数用于将可迭代的对象作为参数，将对象中对应的元素打包成一个个元组，然后返回由这些元组组成的列表\n",
    "    # list() 方法用于将元组转换为列表。\n",
    "    return list(map(list, zip(*M)))"
   ]
  },
  {
   "cell_type": "code",
   "execution_count": 206,
   "metadata": {
    "scrolled": true
   },
   "outputs": [
    {
     "name": "stderr",
     "output_type": "stream",
     "text": [
      ".\n",
      "----------------------------------------------------------------------\n",
      "Ran 1 test in 0.018s\n",
      "\n",
      "OK\n"
     ]
    }
   ],
   "source": [
    "# 运行以下代码测试你的 transpose 函数\n",
    "%run -i -e test.py LinearRegressionTestCase.test_transpose"
   ]
  },
  {
   "cell_type": "markdown",
   "metadata": {},
   "source": [
    "## 1.5 计算矩阵乘法 AB"
   ]
  },
  {
   "cell_type": "code",
   "execution_count": 207,
   "metadata": {
    "collapsed": true
   },
   "outputs": [],
   "source": [
    "# TODO 计算矩阵乘法 AB，如果无法相乘则raise ValueError\n",
    "def matxMultiply(A, B):\n",
    "    \n",
    "    # 使用shape函数，取出A B矩阵的行列数量\n",
    "    matx_a_row_num, matx_a_clo_num = shape(A)\n",
    "    matx_b_row_num, matx_b_clo_num = shape(B)\n",
    "    \n",
    "    # 先判断矩阵的相乘条件，不满足就抛出异常结束计算\n",
    "    if matx_a_clo_num != matx_b_row_num:\n",
    "        raise ValueError\n",
    "    \n",
    "    # 初始化一个new_matx_row_num * new_matx_col_num每项为0的数组\n",
    "    new_matx_col_num = matx_b_clo_num\n",
    "    new_matx_row_num = matx_a_row_num\n",
    "    result = [[0] * new_matx_col_num for i in range(new_matx_row_num)]\n",
    "    \n",
    "    # 逐行遍历矩阵a\n",
    "    for a_row in range(matx_a_row_num):\n",
    "#         print (\"a_row:%d\" %(a_row))\n",
    "        # 逐列遍历矩阵b\n",
    "        for b_col in range(matx_b_clo_num):\n",
    "#             print (\"b_col:%d\" %(b_col))\n",
    "            # 取出矩阵b每行上的元素\n",
    "            for b_row in range(matx_b_row_num):\n",
    "#                 print (\"b_row:%d\" %(b_row))\n",
    "                result[a_row][b_col] += A[a_row][b_row] * B[b_row][b_col]\n",
    "#     print(result)                 \n",
    "    return result "
   ]
  },
  {
   "cell_type": "code",
   "execution_count": 208,
   "metadata": {},
   "outputs": [
    {
     "name": "stderr",
     "output_type": "stream",
     "text": [
      ".\n",
      "----------------------------------------------------------------------\n",
      "Ran 1 test in 0.078s\n",
      "\n",
      "OK\n"
     ]
    }
   ],
   "source": [
    "# 运行以下代码测试你的 matxMultiply 函数\n",
    "%run -i -e test.py LinearRegressionTestCase.test_matxMultiply"
   ]
  },
  {
   "cell_type": "markdown",
   "metadata": {},
   "source": [
    "---\n",
    "\n",
    "# 2 Gaussign Jordan 消元法\n",
    "\n",
    "## 2.1 构造增广矩阵\n",
    "\n",
    "$ A = \\begin{bmatrix}\n",
    "    a_{11}    & a_{12} & ... & a_{1n}\\\\\n",
    "    a_{21}    & a_{22} & ... & a_{2n}\\\\\n",
    "    a_{31}    & a_{22} & ... & a_{3n}\\\\\n",
    "    ...    & ... & ... & ...\\\\\n",
    "    a_{n1}    & a_{n2} & ... & a_{nn}\\\\\n",
    "\\end{bmatrix} , b = \\begin{bmatrix}\n",
    "    b_{1}  \\\\\n",
    "    b_{2}  \\\\\n",
    "    b_{3}  \\\\\n",
    "    ...    \\\\\n",
    "    b_{n}  \\\\\n",
    "\\end{bmatrix}$\n",
    "\n",
    "返回 $ Ab = \\begin{bmatrix}\n",
    "    a_{11}    & a_{12} & ... & a_{1n} & b_{1}\\\\\n",
    "    a_{21}    & a_{22} & ... & a_{2n} & b_{2}\\\\\n",
    "    a_{31}    & a_{22} & ... & a_{3n} & b_{3}\\\\\n",
    "    ...    & ... & ... & ...& ...\\\\\n",
    "    a_{n1}    & a_{n2} & ... & a_{nn} & b_{n} \\end{bmatrix}$"
   ]
  },
  {
   "cell_type": "code",
   "execution_count": 209,
   "metadata": {
    "collapsed": true
   },
   "outputs": [],
   "source": [
    "# TODO 构造增广矩阵，假设A，b行数相同\n",
    "def augmentMatrix(A, b):\n",
    "    # 初始化一个len(b) * len(b[0] 每项为0的数组\n",
    "    result = [[0] * shape(b)[1] for i in range(shape(b)[0])]\n",
    "    for i in range(len(A)):\n",
    "        result[i] = A[i] + b[i]        \n",
    "    return result"
   ]
  },
  {
   "cell_type": "code",
   "execution_count": 210,
   "metadata": {},
   "outputs": [
    {
     "name": "stderr",
     "output_type": "stream",
     "text": [
      ".\n",
      "----------------------------------------------------------------------\n",
      "Ran 1 test in 0.008s\n",
      "\n",
      "OK\n"
     ]
    }
   ],
   "source": [
    "# 运行以下代码测试你的 augmentMatrix 函数\n",
    "%run -i -e test.py LinearRegressionTestCase.test_augmentMatrix"
   ]
  },
  {
   "cell_type": "markdown",
   "metadata": {},
   "source": [
    "## 2.2 初等行变换\n",
    "- 交换两行\n",
    "- 把某行乘以一个非零常数\n",
    "- 把某行加上另一行的若干倍："
   ]
  },
  {
   "cell_type": "code",
   "execution_count": 211,
   "metadata": {
    "collapsed": true
   },
   "outputs": [],
   "source": [
    "# TODO r1 <---> r2\n",
    "# 直接修改参数矩阵，无返回值\n",
    "def swapRows(M, r1, r2):\n",
    "    M[r1], M[r2] = M[r2], M[r1]\n",
    "    pass"
   ]
  },
  {
   "cell_type": "code",
   "execution_count": 212,
   "metadata": {},
   "outputs": [
    {
     "name": "stderr",
     "output_type": "stream",
     "text": [
      ".\n",
      "----------------------------------------------------------------------\n",
      "Ran 1 test in 0.003s\n",
      "\n",
      "OK\n"
     ]
    }
   ],
   "source": [
    "# 运行以下代码测试你的 swapRows 函数\n",
    "%run -i -e test.py LinearRegressionTestCase.test_swapRows"
   ]
  },
  {
   "cell_type": "code",
   "execution_count": 213,
   "metadata": {
    "collapsed": true
   },
   "outputs": [],
   "source": [
    "# TODO r1 <--- r1 * scale\n",
    "# scale为0是非法输入，要求 raise ValueError\n",
    "# 直接修改参数矩阵，无返回值\n",
    "def scaleRow(M, r, scale):\n",
    "    if not scale:\n",
    "        raise ValueError('scale can not be zero')\n",
    "    else:\n",
    "        M[r] = [scale * i for i in M[r]]\n",
    "    pass"
   ]
  },
  {
   "cell_type": "code",
   "execution_count": 214,
   "metadata": {
    "scrolled": true
   },
   "outputs": [
    {
     "name": "stderr",
     "output_type": "stream",
     "text": [
      ".\n",
      "----------------------------------------------------------------------\n",
      "Ran 1 test in 0.005s\n",
      "\n",
      "OK\n"
     ]
    }
   ],
   "source": [
    "# 运行以下代码测试你的 scaleRow 函数\n",
    "%run -i -e test.py LinearRegressionTestCase.test_scaleRow"
   ]
  },
  {
   "cell_type": "code",
   "execution_count": 215,
   "metadata": {
    "collapsed": true
   },
   "outputs": [],
   "source": [
    "# TODO r1 <--- r1 + r2*scale\n",
    "# 直接修改参数矩阵，无返回值\n",
    "def addScaledRow(M, r1, r2, scale):\n",
    "    if not scale:\n",
    "        raise ValueError('scale can not be zero')\n",
    "    else:\n",
    "        # zip() 函数用于将可迭代的对象作为参数，将对象中对应的元素打包成一个个元组，然后返回由这些元组组成的列表\n",
    "        M[r1] = [x + (y * scale) for x, y in zip(M[r1], M[r2])]\n",
    "    pass"
   ]
  },
  {
   "cell_type": "code",
   "execution_count": 216,
   "metadata": {},
   "outputs": [
    {
     "name": "stderr",
     "output_type": "stream",
     "text": [
      ".\n",
      "----------------------------------------------------------------------\n",
      "Ran 1 test in 0.003s\n",
      "\n",
      "OK\n"
     ]
    }
   ],
   "source": [
    "# 运行以下代码测试你的 addScaledRow 函数\n",
    "%run -i -e test.py LinearRegressionTestCase.test_addScaledRow"
   ]
  },
  {
   "cell_type": "markdown",
   "metadata": {},
   "source": [
    "## 2.3  Gaussian Jordan 消元法求解 Ax = b"
   ]
  },
  {
   "cell_type": "markdown",
   "metadata": {},
   "source": [
    "### 2.3.1 算法\n",
    "\n",
    "步骤1 检查A，b是否行数相同\n",
    "\n",
    "步骤2 构造增广矩阵Ab\n",
    "\n",
    "步骤3 逐列转换Ab为化简行阶梯形矩阵 [中文维基链接](https://zh.wikipedia.org/wiki/%E9%98%B6%E6%A2%AF%E5%BD%A2%E7%9F%A9%E9%98%B5#.E5.8C.96.E7.AE.80.E5.90.8E.E7.9A.84-.7Bzh-hans:.E8.A1.8C.3B_zh-hant:.E5.88.97.3B.7D-.E9.98.B6.E6.A2.AF.E5.BD.A2.E7.9F.A9.E9.98.B5)\n",
    "    \n",
    "    对于Ab的每一列（最后一列除外）\n",
    "        当前列为列c\n",
    "        寻找列c中 对角线以及对角线以下所有元素（行 c~N）的绝对值的最大值\n",
    "        如果绝对值最大值为0\n",
    "            那么A为奇异矩阵，返回None (你可以在选做问题2.4中证明为什么这里A一定是奇异矩阵)\n",
    "        否则\n",
    "            使用第一个行变换，将绝对值最大值所在行交换到对角线元素所在行（行c） \n",
    "            使用第二个行变换，将列c的对角线元素缩放为1\n",
    "            多次使用第三个行变换，将列c的其他元素消为0\n",
    "            \n",
    "步骤4 返回Ab的最后一列\n",
    "\n",
    "**注：** 我们并没有按照常规方法先把矩阵转化为行阶梯形矩阵，再转换为化简行阶梯形矩阵，而是一步到位。如果你熟悉常规方法的话，可以思考一下两者的等价性。"
   ]
  },
  {
   "cell_type": "markdown",
   "metadata": {},
   "source": [
    "### 2.3.2 算法推演\n",
    "\n",
    "为了充分了解Gaussian Jordan消元法的计算流程，请根据Gaussian Jordan消元法，分别手动推演矩阵A为***可逆矩阵***，矩阵A为***奇异矩阵***两种情况。"
   ]
  },
  {
   "cell_type": "markdown",
   "metadata": {},
   "source": [
    "# 推演示例 \n",
    "\n",
    "\n",
    "$Ab = \\begin{bmatrix}\n",
    "    -7 & 5 & -1 & 1\\\\\n",
    "    1 & -3 & -8 & 1\\\\\n",
    "    -10 & -2 & 9 & 1\\end{bmatrix}$\n",
    "\n",
    "$ --> $\n",
    "$\\begin{bmatrix}\n",
    "    1 & \\frac{1}{5} & -\\frac{9}{10} & -\\frac{1}{10}\\\\\n",
    "    0 & -\\frac{16}{5} & -\\frac{71}{10} & \\frac{11}{10}\\\\\n",
    "    0 & \\frac{32}{5} & -\\frac{73}{10} & \\frac{3}{10}\\end{bmatrix}$\n",
    "\n",
    "$ --> $\n",
    "$\\begin{bmatrix}\n",
    "    1 & 0 & -\\frac{43}{64} & -\\frac{7}{64}\\\\\n",
    "    0 & 1 & -\\frac{73}{64} & \\frac{3}{64}\\\\\n",
    "    0 & 0 & -\\frac{43}{4} & \\frac{5}{4}\\end{bmatrix}$\n",
    "\n",
    "$ --> $\n",
    "$\\begin{bmatrix}\n",
    "    1 & 0 & 0 & -\\frac{3}{16}\\\\\n",
    "    0 & 1 & 0 & -\\frac{59}{688}\\\\\n",
    "    0 & 0 & 1 & -\\frac{5}{43}\\end{bmatrix}$\n",
    "    \n",
    "\n",
    "#### 推演有以下要求:\n",
    "1. 展示每一列的消元结果, 比如3*3的矩阵, 需要写三步\n",
    "2. 用分数来表示\n",
    "3. 分数不能再约分\n",
    "4. 我们已经给出了latex的语法,你只要把零改成你要的数字(或分数)即可\n",
    "5. 检查你的答案, 可以用[这个](http://www.math.odu.edu/~bogacki/cgi-bin/lat.cgi?c=sys), 或者后面通过单元测试后的`gj_Solve`\n",
    "\n",
    "_你可以用python的 [fractions](https://docs.python.org/2/library/fractions.html) 模块辅助你的约分_"
   ]
  },
  {
   "cell_type": "markdown",
   "metadata": {},
   "source": [
    "#### 以下开始你的尝试吧!"
   ]
  },
  {
   "cell_type": "code",
   "execution_count": 217,
   "metadata": {},
   "outputs": [
    {
     "name": "stdout",
     "output_type": "stream",
     "text": [
      "  3,  5,  9 ||  1 \n",
      " -3,  4,  3 ||  1 \n",
      "  7,  6,  2 ||  1 \n"
     ]
    }
   ],
   "source": [
    "# 不要修改这里！\n",
    "from helper import *\n",
    "A = generateMatrix(3,seed,singular=False)\n",
    "b = np.ones(shape=(3,1),dtype=int) # it doesn't matter\n",
    "Ab = augmentMatrix(A.tolist(),b.tolist()) # 请确保你的增广矩阵已经写好了\n",
    "printInMatrixFormat(Ab,padding=3,truncating=0)"
   ]
  },
  {
   "cell_type": "markdown",
   "metadata": {},
   "source": [
    "请按照算法的步骤3，逐步推演***可逆矩阵***的变换。\n",
    "\n",
    "在下面列出每一次循环体执行之后的增广矩阵。\n",
    "\n",
    "要求：\n",
    "1. 做分数运算\n",
    "2. 使用`\\frac{n}{m}`来渲染分数，如下：\n",
    " - $\\frac{n}{m}$\n",
    " - $-\\frac{a}{b}$\n",
    "\n",
    "对矩阵Ab按行进行编号，分别为①、②、③\n",
    "\n",
    "$ Ab = \\begin{bmatrix}\n",
    "    3 & 5 & 9 & 1 \\\\\n",
    "    -3 & 4 & 3 & 1 \\\\\n",
    "    7 & 6 & 2 & 1 \\end{bmatrix}$\n",
    "\n",
    "① <- ① * $\\frac{1}{3}$\n",
    "$ --> \\begin{bmatrix}\n",
    "    1 & \\frac{5}{3} & 3 & \\frac{1}{3} \\\\\n",
    "    -3 & 4 & 3 & 1 \\\\\n",
    "    7 & 6 & 2 & 1 \\end{bmatrix}$\n",
    "\n",
    "② <- ① * 3 + ②\n",
    "$ --> \\begin{bmatrix}\n",
    "    1 & \\frac{5}{3} & 3 & \\frac{1}{3} \\\\\n",
    "    0 & 9 & 12 & 2 \\\\\n",
    "    7 & 6 & 2 & 1 \\end{bmatrix}$\n",
    "\n",
    "③ <- ① * -7 + ③\n",
    "$ --> \\begin{bmatrix}\n",
    "    1 & \\frac{5}{3} & 3 & \\frac{1}{3} \\\\\n",
    "    0 & 9 & 12 & 2 \\\\\n",
    "    0 & \\frac{-17}{3} & -19 & \\frac{-4}{3} \\end{bmatrix}$\n",
    "\n",
    "② <- ② * $\\frac{-1}{9}$\n",
    "$ --> \\begin{bmatrix}\n",
    "    1 & \\frac{5}{3} & 3 & \\frac{1}{3} \\\\\n",
    "    0 & 1 & \\frac{4}{3} & \\frac{2}{9} \\\\\n",
    "    0 & \\frac{-17}{3} & -19 & \\frac{-4}{3} \\end{bmatrix}$\n",
    "\n",
    "③ <- ② * $\\frac{-17}{3}$ + ③\n",
    "$ --> \\begin{bmatrix}\n",
    "    1 & \\frac{5}{3} & 3 & \\frac{1}{3} \\\\\n",
    "    0 & 1 & \\frac{4}{3} & \\frac{2}{9} \\\\\n",
    "    0 & 0 & \\frac{-9}{103} & \\frac{-2}{27} \\end{bmatrix}$  \n",
    "\n",
    "③ <- ③ * $\\frac{-9}{103}$ + ③\n",
    "$ --> \\begin{bmatrix}\n",
    "    1 & \\frac{5}{3} & 3 & \\frac{1}{3} \\\\\n",
    "    0 & 1 & \\frac{4}{3} & \\frac{2}{9} \\\\\n",
    "    0 & 0 & 1 & \\frac{2}{309} \\end{bmatrix}$\n",
    "\n",
    "② <- ③ * $\\frac{-4}{3}$ + ② \n",
    "$ --> \\begin{bmatrix}\n",
    "    1 & \\frac{5}{3} & 3 & \\frac{1}{3} \\\\\n",
    "    0 & 1 & 0 & \\frac{22}{103} \\\\\n",
    "    0 & 0 & 1 & \\frac{2}{309} \\end{bmatrix}$\n",
    "\n",
    "① <- ③ * -3 + ① \n",
    "$ --> \\begin{bmatrix}\n",
    "    1 & \\frac{5}{3} & 0 & \\frac{97}{309} \\\\\n",
    "    0 & 1 & 0 & \\frac{22}{103} \\\\\n",
    "    0 & 0 & 1 & \\frac{2}{309} \\end{bmatrix}$  \n",
    "\n",
    "① <- ② * $\\frac{-5}{3}$ + ① \n",
    "$ --> \\begin{bmatrix}\n",
    "    1 & 0 & 0 & \\frac{-13}{309} \\\\\n",
    "    0 & 1 & 0 & \\frac{22}{103} \\\\\n",
    "    0 & 0 & 1 & \\frac{2}{309} \\end{bmatrix}$  \n",
    "\n",
    "方程有唯一解，为可逆矩阵：<br><br>\n",
    "x = $\\frac{-13}{309}$ <br><br>\n",
    "y = $\\frac{22}{103}$ <br><br>\n",
    "z = $\\frac{2}{309}$"
   ]
  },
  {
   "cell_type": "code",
   "execution_count": 218,
   "metadata": {},
   "outputs": [
    {
     "name": "stdout",
     "output_type": "stream",
     "text": [
      " -2, -8, -2 ||  1 \n",
      " -6,  6,  6 ||  1 \n",
      " -5, -5,  1 ||  1 \n"
     ]
    }
   ],
   "source": [
    "# 不要修改这里！\n",
    "A = generateMatrix(3,seed,singular=True)\n",
    "b = np.ones(shape=(3,1),dtype=int)\n",
    "Ab = augmentMatrix(A.tolist(),b.tolist()) # 请确保你的增广矩阵已经写好了\n",
    "printInMatrixFormat(Ab,padding=3,truncating=0)"
   ]
  },
  {
   "cell_type": "markdown",
   "metadata": {},
   "source": [
    "请按照算法的步骤3，逐步推演***奇异矩阵***的变换。\n",
    "\n",
    "在下面列出每一次循环体执行之后的增广矩阵。\n",
    "\n",
    "要求：\n",
    "1. 做分数运算\n",
    "2. 使用`\\frac{n}{m}`来渲染分数，如下：\n",
    " - $\\frac{n}{m}$\n",
    " - $-\\frac{a}{b}$\n",
    "\n",
    "\n",
    "对矩阵Ab按行进行编号，分别为①、②、③\n",
    "\n",
    "$ Ab = \\begin{bmatrix}\n",
    "    -2 & -8 & -2 & 1 \\\\\n",
    "    -6 & 6 & 6 & 1 \\\\\n",
    "    -5 & -5 & 1 & 1 \\end{bmatrix}$\n",
    "\n",
    "① <- ① * $\\frac{-1}{2}$\n",
    "$ --> \\begin{bmatrix}\n",
    "    1 & 4 & 1 & \\frac{-1}{2} \\\\\n",
    "    -6 & 6 & 6 & 1 \\\\\n",
    "    -5 & -5 & 1 & 1 \\end{bmatrix}$\n",
    "\n",
    "② <- ① * 6 + ②\n",
    "$ --> \\begin{bmatrix}\n",
    "    1 & 4 & 1 & \\frac{-1}{2} \\\\\n",
    "    0 & 30 & 12 & -2 \\\\\n",
    "    -5 & -5 & 1 & 1 \\end{bmatrix}$\n",
    "\n",
    "③ <- ① * 5 + ③\n",
    "$ --> \\begin{bmatrix}\n",
    "    1 & 4 & 1 & \\frac{-1}{2} \\\\\n",
    "    0 & 30 & 12 & -2 \\\\\n",
    "    0 & 15 & 6 & \\frac{-3}{2} \\end{bmatrix}$\n",
    "\n",
    "② <- ② * $\\frac{1}{30}$\n",
    "$ --> \\begin{bmatrix}\n",
    "    1 & 4 & 1 & \\frac{-1}{2} \\\\\n",
    "    0 & 1 & \\frac{2}{5} & \\frac{-1}{15} \\\\\n",
    "    0 & 15 & 6 & \\frac{-3}{2} \\end{bmatrix}$\n",
    "\n",
    "③ <- ② * (-15) + ③\n",
    "$ --> \\begin{bmatrix}\n",
    "    1 & 4 & 1 & \\frac{-1}{2} \\\\\n",
    "    0 & 1 & \\frac{2}{5} & \\frac{-1}{15} \\\\\n",
    "    0 & 0 & 0 & \\frac{-1}{2} \\end{bmatrix}$ \n",
    "\n",
    "③ <- ③ * (-2)\n",
    "$ --> \\begin{bmatrix}\n",
    "    1 & 4 & 1 & \\frac{-1}{2} \\\\\n",
    "    0 & 1 & \\frac{2}{5} & \\frac{-1}{15} \\\\\n",
    "    0 & 0 & 0 & 1 \\end{bmatrix}$\n",
    "\n",
    "② <- ③ * $\\frac{1}{15}$ + ②\n",
    "$ --> \\begin{bmatrix}\n",
    "    1 & 4 & 1 & \\frac{-1}{2} \\\\\n",
    "    0 & 1 & \\frac{2}{5} & 0 \\\\\n",
    "    0 & 0 & 0 & 1 \\end{bmatrix}$\n",
    "\n",
    "① <- ③ * $\\frac{1}{2}$ + ① \n",
    "$ --> \\begin{bmatrix}\n",
    "    1 & 4 & 1 & \\frac{-1}{2} \\\\\n",
    "    0 & 1 & \\frac{2}{5} & 0 \\\\\n",
    "    0 & 0 & 0 & 1 \\end{bmatrix}$ \n",
    "\n",
    "① <- ② * (-4) + ① \n",
    "$ --> \\begin{bmatrix}\n",
    "    1 & 0 & \\frac{-3}{5} & 0 \\\\\n",
    "    0 & 1 & \\frac{2}{5} & 0 \\\\\n",
    "    0 & 0 & 0 & 1 \\end{bmatrix}$\n",
    "\n",
    "转为方程如下：<br><br>\n",
    "x + $\\frac{-3}{5}$ * z = 0 <br><br>\n",
    "y + $\\frac{2}{5}$ * z = 0<br><br>\n",
    "0 = 1<br><br>\n",
    "0 = 1无解，该矩阵为奇异矩阵\n"
   ]
  },
  {
   "cell_type": "markdown",
   "metadata": {},
   "source": [
    "### 2.3.3 实现 Gaussian Jordan 消元法"
   ]
  },
  {
   "cell_type": "code",
   "execution_count": 243,
   "metadata": {},
   "outputs": [],
   "source": [
    "# TODO 实现 Gaussain Jordan 方法求解 Ax = b\n",
    "\n",
    "\"\"\" Gaussian Jordan 方法求解 Ax = b.\n",
    "    参数\n",
    "        A: 方阵 \n",
    "        b: 列向量\n",
    "        decPts: 四舍五入位数，默认为4\n",
    "        epsilon: 判读是否为0的阈值，默认 1.0e-16\n",
    "        \n",
    "    返回列向量 x 使得 Ax = b \n",
    "    返回None，如果 A，b 高度不同\n",
    "    返回None，如果 A 为奇异矩阵\n",
    "# 参考资料：\n",
    "# [Udacity P3直播课] https://m.qlchat.com/topic/details?topicId=2000000919066007\n",
    "# [Python内置函数Api] http://www.runoob.com/python/python-built-in-functions.html\n",
    "# [矩阵的行列获取方法] http://blog.csdn.net/luoganttcc/article/details/74080768\n",
    "# [获取列表中绝对值最大值] http://zhoufeng1989.github.io/Key-parameter-in-max-min-sorted/\n",
    "# [Python矩阵转置] https://baijiahao.baidu.com/s?id=1579306472315552043&wfr=spider&for=pc\n",
    "# [链表推导式] https://zhidao.baidu.com/question/89558106.html\n",
    "\"\"\"\n",
    "def gj_Solve(A, b, decPts = 4, epsilon = 1.0e-16):\n",
    "    # 检查A，b是否行数相同 return None\n",
    "    if len(A) != len(b): return None\n",
    "\n",
    "    # 构造增广矩阵Ab\n",
    "    matxAb = augmentMatrix(A, b)\n",
    "\n",
    "    # 返回矩阵的行数和列数: row && column\n",
    "    matxAb_row, matxAb_column = shape(matxAb)\n",
    "\n",
    "    # # 逐列转换Ab为化简行阶梯形矩阵，对于Ab的每一列（最后一列除外）\n",
    "    for c in range(matxAb_column - 1):\n",
    "\n",
    "        max_idx, max_val = 0, 0\n",
    "\n",
    "        for i in range(matxAb_row):\n",
    "            if i < c:\n",
    "                continue\n",
    "            abs_current_row = abs(matxAb[i][c])\n",
    "            if abs_current_row > max_val:\n",
    "                max_idx = i\n",
    "                max_val = abs_current_row\n",
    "\n",
    "        # 如果绝对值最大值为0，那么A为奇异矩阵，返回None\n",
    "        abs_max_val = abs(max_val)\n",
    "        if abs_max_val < epsilon:\n",
    "            return None\n",
    "        else:\n",
    "            if c != max_idx:\n",
    "                swapRows(matxAb, c, max_idx)\n",
    "        # 使用第二个行变换，将列c的对角线元素缩放为1\n",
    "        divisor = matxAb[c][c]\n",
    "        if 0 != divisor:           \n",
    "            scaleRow(matxAb, c, 1.0 / divisor)\n",
    "\n",
    "        # 多次使用第三个行变换，将列c的其他元素消为0\n",
    "        for i in range(matxAb_row):\n",
    "            # 除去第c行，且除数不为0\n",
    "            if i != c:\n",
    "                # 修改参数矩阵\n",
    "                scale = -matxAb[i][c]\n",
    "                if abs(scale) <= epsilon:\n",
    "                    continue\n",
    "                addScaledRow(matxAb, i, c, scale)\n",
    "\n",
    "    ret = []\n",
    "    for row in matxAb:\n",
    "        ret.append([round(row[-1], decPts)])\n",
    "    return ret"
   ]
  },
  {
   "cell_type": "code",
   "execution_count": 244,
   "metadata": {
    "scrolled": true
   },
   "outputs": [
    {
     "name": "stderr",
     "output_type": "stream",
     "text": [
      ".\n",
      "----------------------------------------------------------------------\n",
      "Ran 1 test in 2.382s\n",
      "\n",
      "OK\n"
     ]
    }
   ],
   "source": [
    "# 运行以下代码测试你的 gj_Solve 函数\n",
    "%run -i -e test.py LinearRegressionTestCase.test_gj_Solve"
   ]
  },
  {
   "cell_type": "markdown",
   "metadata": {},
   "source": [
    "## (选做) 2.4 算法正确判断了奇异矩阵：\n",
    "\n",
    "在算法的步骤3 中，如果发现某一列对角线和对角线以下所有元素都为0，那么则断定这个矩阵为奇异矩阵。\n",
    "\n",
    "我们用正式的语言描述这个命题，并证明为真。\n",
    "\n",
    "证明下面的命题：\n",
    "\n",
    "**如果方阵 A 可以被分为4个部分: ** \n",
    "\n",
    "$ A = \\begin{bmatrix}\n",
    "    I    & X \\\\\n",
    "    Z    & Y \\\\\n",
    "\\end{bmatrix} , \\text{其中 I 为单位矩阵，Z 为全0矩阵，Y 的第一列全0}$，\n",
    "\n",
    "**那么A为奇异矩阵。**\n",
    "\n",
    "提示：从多种角度都可以完成证明\n",
    "- 考虑矩阵 Y 和 矩阵 A 的秩\n",
    "- 考虑矩阵 Y 和 矩阵 A 的行列式\n",
    "- 考虑矩阵 A 的某一列是其他列的线性组合"
   ]
  },
  {
   "cell_type": "markdown",
   "metadata": {},
   "source": [
    "TODO 证明："
   ]
  },
  {
   "cell_type": "markdown",
   "metadata": {},
   "source": [
    "# 3  线性回归"
   ]
  },
  {
   "cell_type": "markdown",
   "metadata": {},
   "source": [
    "## 3.1 随机生成样本点"
   ]
  },
  {
   "cell_type": "code",
   "execution_count": 245,
   "metadata": {},
   "outputs": [
    {
     "data": {
      "image/png": "[encoded data removed]",
      "text/plain": [
       "<matplotlib.figure.Figure at 0x109e387f0>"
      ]
     },
     "metadata": {},
     "output_type": "display_data"
    }
   ],
   "source": [
    "# 不要修改这里！\n",
    "# 运行一次就够了！\n",
    "from helper import *\n",
    "from matplotlib import pyplot as plt\n",
    "%matplotlib inline\n",
    "\n",
    "X,Y = generatePoints(seed,num=100)\n",
    "\n",
    "## 可视化\n",
    "plt.xlim((-5,5))\n",
    "plt.xlabel('x',fontsize=18)\n",
    "plt.ylabel('y',fontsize=18)\n",
    "plt.scatter(X,Y,c='b')\n",
    "plt.show()"
   ]
  },
  {
   "cell_type": "markdown",
   "metadata": {},
   "source": [
    "## 3.2 拟合一条直线\n",
    "\n",
    "### 3.2.1 猜测一条直线"
   ]
  },
  {
   "cell_type": "code",
   "execution_count": 255,
   "metadata": {},
   "outputs": [
    {
     "name": "stderr",
     "output_type": "stream",
     "text": [
      "/anaconda3/lib/python3.6/site-packages/matplotlib/cbook/deprecation.py:106: MatplotlibDeprecationWarning: Adding an axes using the same arguments as a previous axes currently reuses the earlier instance.  In a future version, a new instance will always be created and returned.  Meanwhile, this warning can be suppressed, and the future behavior ensured, by passing a unique label to each axes instance.\n",
      "  warnings.warn(message, mplDeprecation, stacklevel=1)\n"
     ]
    },
    {
     "data": {
      "image/png": "[encoded data removed]",
      "text/plain": [
       "<matplotlib.figure.Figure at 0x1139dd898>"
      ]
     },
     "metadata": {},
     "output_type": "display_data"
    }
   ],
   "source": [
    "#TODO 请选择最适合的直线 y = mx + b\n",
    "m1 = 4\n",
    "b1 = 7\n",
    "\n",
    "# 不要修改这里！\n",
    "plt.xlim((-5,5))\n",
    "x_vals = plt.axes().get_xlim()\n",
    "y_vals = [m1*x+b1 for x in x_vals]\n",
    "plt.plot(x_vals, y_vals, '-', color='r')\n",
    "\n",
    "plt.xlabel('x',fontsize=18)\n",
    "plt.ylabel('y',fontsize=18)\n",
    "plt.scatter(X,Y,c='b')\n",
    "\n",
    "plt.show()"
   ]
  },
  {
   "cell_type": "markdown",
   "metadata": {},
   "source": [
    "### 3.2.2 计算平均平方误差 (MSE)"
   ]
  },
  {
   "cell_type": "markdown",
   "metadata": {
    "collapsed": true
   },
   "source": [
    "我们要编程计算所选直线的平均平方误差(MSE), 即数据集中每个点到直线的Y方向距离的平方的平均数，表达式如下：\n",
    "$$\n",
    "MSE = \\frac{1}{n}\\sum_{i=1}^{n}{(y_i - mx_i - b)^2}\n",
    "$$"
   ]
  },
  {
   "cell_type": "code",
   "execution_count": 266,
   "metadata": {},
   "outputs": [
    {
     "name": "stdout",
     "output_type": "stream",
     "text": [
      "2.2251741185661387\n"
     ]
    }
   ],
   "source": [
    "# TODO 实现以下函数并输出所选直线的MSE\n",
    "\n",
    "def calculateMSE(X,Y,m,b):\n",
    "    if len(X) != 0:\n",
    "        return sum([(y - m * x -b) ** 2 for x, y in zip(X, Y)]) / len(X)\n",
    "    else:\n",
    "        raise ValueError\n",
    "\n",
    "print(calculateMSE(X, Y, m1, b1))"
   ]
  },
  {
   "cell_type": "markdown",
   "metadata": {},
   "source": [
    "### 3.2.3 调整参数 $m, b$ 来获得最小的平方平均误差\n",
    "\n",
    "你可以调整3.2.1中的参数 $m1,b1$ 让蓝点均匀覆盖在红线周围，然后微调 $m1, b1$ 让MSE最小。"
   ]
  },
  {
   "cell_type": "markdown",
   "metadata": {},
   "source": [
    "## 3.3 (选做) 找到参数 $m, b$ 使得平方平均误差最小\n",
    "\n",
    "**这一部分需要简单的微积分知识(  $ (x^2)' = 2x $ )。因为这是一个线性代数项目，所以设为选做。**\n",
    "\n",
    "刚刚我们手动调节参数，尝试找到最小的平方平均误差。下面我们要精确得求解 $m, b$ 使得平方平均误差最小。\n",
    "\n",
    "定义目标函数 $E$ 为\n",
    "$$\n",
    "E = \\frac{1}{2}\\sum_{i=1}^{n}{(y_i - mx_i - b)^2}\n",
    "$$\n",
    "\n",
    "因为 $E = \\frac{n}{2}MSE$, 所以 $E$ 取到最小值时，$MSE$ 也取到最小值。要找到 $E$ 的最小值，即要找到 $m, b$ 使得 $E$ 相对于 $m$, $E$ 相对于 $b$ 的偏导数等于0. \n",
    "\n",
    "因此我们要解下面的方程组。\n",
    "\n",
    "$$\n",
    "\\begin{cases}\n",
    "\\displaystyle\n",
    "\\frac{\\partial E}{\\partial m} =0 \\\\\n",
    "\\\\\n",
    "\\displaystyle\n",
    "\\frac{\\partial E}{\\partial b} =0 \\\\\n",
    "\\end{cases}\n",
    "$$\n",
    "\n",
    "### 3.3.1 计算目标函数相对于参数的导数\n",
    "首先我们计算两个式子左边的值\n",
    "\n",
    "证明/计算：\n",
    "$$\n",
    "\\frac{\\partial E}{\\partial m} = \\sum_{i=1}^{n}{-x_i(y_i - mx_i - b)}\n",
    "$$\n",
    "\n",
    "$$\n",
    "\\frac{\\partial E}{\\partial b} = \\sum_{i=1}^{n}{-(y_i - mx_i - b)}\n",
    "$$"
   ]
  },
  {
   "cell_type": "markdown",
   "metadata": {},
   "source": [
    "TODO 证明:"
   ]
  },
  {
   "cell_type": "markdown",
   "metadata": {},
   "source": [
    "### 3.3.2 实例推演\n",
    "\n",
    "现在我们有了一个二元二次方程组\n",
    "\n",
    "$$\n",
    "\\begin{cases}\n",
    "\\displaystyle\n",
    "\\sum_{i=1}^{n}{-x_i(y_i - mx_i - b)} =0 \\\\\n",
    "\\\\\n",
    "\\displaystyle\n",
    "\\sum_{i=1}^{n}{-(y_i - mx_i - b)} =0 \\\\\n",
    "\\end{cases}\n",
    "$$\n",
    "\n",
    "为了加强理解，我们用一个实际例子演练。\n",
    "\n",
    "我们要用三个点 $(1,1), (2,2), (3,2)$ 来拟合一条直线 y = m*x + b, 请写出\n",
    "\n",
    "- 目标函数 $E$, \n",
    "- 二元二次方程组，\n",
    "- 并求解最优参数 $m, b$"
   ]
  },
  {
   "cell_type": "markdown",
   "metadata": {},
   "source": [
    "TODO 写出目标函数，方程组和最优参数"
   ]
  },
  {
   "cell_type": "markdown",
   "metadata": {},
   "source": [
    "### 3.3.3 将方程组写成矩阵形式\n",
    "\n",
    "我们的二元二次方程组可以用更简洁的矩阵形式表达，将方程组写成矩阵形式更有利于我们使用 Gaussian Jordan 消元法求解。\n",
    "\n",
    "请证明 \n",
    "$$\n",
    "\\begin{bmatrix}\n",
    "    \\frac{\\partial E}{\\partial m} \\\\\n",
    "    \\frac{\\partial E}{\\partial b} \n",
    "\\end{bmatrix} = X^TXh - X^TY\n",
    "$$\n",
    "\n",
    "其中向量 $Y$, 矩阵 $X$ 和 向量 $h$ 分别为 :\n",
    "$$\n",
    "Y =  \\begin{bmatrix}\n",
    "    y_1 \\\\\n",
    "    y_2 \\\\\n",
    "    ... \\\\\n",
    "    y_n\n",
    "\\end{bmatrix}\n",
    ",\n",
    "X =  \\begin{bmatrix}\n",
    "    x_1 & 1 \\\\\n",
    "    x_2 & 1\\\\\n",
    "    ... & ...\\\\\n",
    "    x_n & 1 \\\\\n",
    "\\end{bmatrix},\n",
    "h =  \\begin{bmatrix}\n",
    "    m \\\\\n",
    "    b \\\\\n",
    "\\end{bmatrix}\n",
    "$$"
   ]
  },
  {
   "cell_type": "markdown",
   "metadata": {},
   "source": [
    "TODO 证明:"
   ]
  },
  {
   "cell_type": "markdown",
   "metadata": {},
   "source": [
    "至此我们知道，通过求解方程 $X^TXh = X^TY$ 来找到最优参数。这个方程十分重要，他有一个名字叫做 **Normal Equation**，也有直观的几何意义。你可以在 [子空间投影](http://open.163.com/movie/2010/11/J/U/M6V0BQC4M_M6V2AJLJU.html) 和 [投影矩阵与最小二乘](http://open.163.com/movie/2010/11/P/U/M6V0BQC4M_M6V2AOJPU.html) 看到更多关于这个方程的内容。"
   ]
  },
  {
   "cell_type": "markdown",
   "metadata": {},
   "source": [
    "### 3.4 求解 $X^TXh = X^TY$ \n",
    "\n",
    "在3.3 中，我们知道线性回归问题等价于求解 $X^TXh = X^TY$ (如果你选择不做3.3，就勇敢的相信吧，哈哈)"
   ]
  },
  {
   "cell_type": "code",
   "execution_count": 267,
   "metadata": {},
   "outputs": [
    {
     "name": "stdout",
     "output_type": "stream",
     "text": [
      "3.6419 6.6856\n"
     ]
    }
   ],
   "source": [
    "# TODO 实现线性回归\n",
    "'''\n",
    "参数：X, Y 存储着一一对应的横坐标与纵坐标的两个一维数组\n",
    "返回：m，b 浮点数\n",
    "'''\n",
    "def linearRegression(X,Y): \n",
    "    # 一维数组X转矩阵\n",
    "    matxX = [[x, 1] for x in X]\n",
    "    # 矩阵转置\n",
    "    transX = transpose(matxX)\n",
    "    # 矩阵相乘\n",
    "    matxA = matxMultiply(transX, matxX)\n",
    "\n",
    "    # 一维数组Y转矩阵\n",
    "    matxY = [[y] for y in Y]\n",
    "    # 矩阵相乘\n",
    "    matxb = matxMultiply(transX, matxY)\n",
    "\n",
    "    # 高斯消元求解\n",
    "    gj_result = gj_Solve(matxA, matxb)\n",
    "\n",
    "#     print(gj_result)\n",
    "\n",
    "    m, b = 0.0, 0.0\n",
    "\n",
    "    if not gj_result:\n",
    "        return m, b\n",
    "\n",
    "    gj_res_len = len(gj_result)\n",
    "    if gj_res_len > 0:\n",
    "        m = gj_result[0][0]\n",
    "    if gj_res_len > 1:\n",
    "        b = gj_result[1][0]\n",
    "    return m, b\n",
    "\n",
    "m2,b2 = linearRegression(X,Y)\n",
    "assert isinstance(m2,float),\"m is not a float\"\n",
    "assert isinstance(b2,float),\"b is not a float\"\n",
    "print(m2,b2)"
   ]
  },
  {
   "cell_type": "markdown",
   "metadata": {},
   "source": [
    "你求得的回归结果是什么？\n",
    "请使用运行以下代码将它画出来。"
   ]
  },
  {
   "cell_type": "code",
   "execution_count": 268,
   "metadata": {},
   "outputs": [
    {
     "data": {
      "image/png": "[encoded data removed]",
      "text/plain": [
       "<matplotlib.figure.Figure at 0x11432c0f0>"
      ]
     },
     "metadata": {},
     "output_type": "display_data"
    }
   ],
   "source": [
    "# 请不要修改下面的代码\n",
    "x1,x2 = -5,5\n",
    "y1,y2 = x1*m2+b2, x2*m2+b2\n",
    "\n",
    "plt.xlim((-5,5))\n",
    "plt.xlabel('x',fontsize=18)\n",
    "plt.ylabel('y',fontsize=18)\n",
    "plt.scatter(X,Y,c='b')\n",
    "plt.plot((x1,x2),(y1,y2),'r')\n",
    "plt.title('y = {m:.4f}x + {b:.4f}'.format(m=m2,b=b2))\n",
    "plt.show()"
   ]
  },
  {
   "cell_type": "markdown",
   "metadata": {},
   "source": [
    "你求得的回归结果对当前数据集的MSE是多少？"
   ]
  },
  {
   "cell_type": "code",
   "execution_count": 269,
   "metadata": {},
   "outputs": [
    {
     "name": "stdout",
     "output_type": "stream",
     "text": [
      "1.0368295533628196\n"
     ]
    }
   ],
   "source": [
    "print(calculateMSE(X,Y,m2,b2))"
   ]
  },
  {
   "cell_type": "code",
   "execution_count": null,
   "metadata": {
    "collapsed": true
   },
   "outputs": [],
   "source": []
  },
  {
   "cell_type": "code",
   "execution_count": null,
   "metadata": {
    "collapsed": true
   },
   "outputs": [],
   "source": []
  },
  {
   "cell_type": "code",
   "execution_count": null,
   "metadata": {
    "collapsed": true
   },
   "outputs": [],
   "source": []
  }
 ],
 "metadata": {
  "anaconda-cloud": {},
  "celltoolbar": "Raw Cell Format",
  "kernelspec": {
   "display_name": "Python 3",
   "language": "python",
   "name": "python3"
  },
  "language_info": {
   "codemirror_mode": {
    "name": "ipython",
    "version": 3
   },
   "file_extension": ".py",
   "mimetype": "text/x-python",
   "name": "python",
   "nbconvert_exporter": "python",
   "pygments_lexer": "ipython3",
   "version": "3.6.3"
  }
 },
 "nbformat": 4,
 "nbformat_minor": 1
}
